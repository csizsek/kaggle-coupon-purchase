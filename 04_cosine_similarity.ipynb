{
 "cells": [
  {
   "cell_type": "code",
   "execution_count": null,
   "metadata": {
    "collapsed": false
   },
   "outputs": [],
   "source": [
    "import numpy as np\n",
    "import pandas as pd\n",
    "from pandas import DataFrame, Series\n",
    "import matplotlib.pyplot as plt\n",
    "%pylab inline"
   ]
  },
  {
   "cell_type": "code",
   "execution_count": null,
   "metadata": {
    "collapsed": false
   },
   "outputs": [],
   "source": [
    "ulist = pd.read_csv('data/user_list.csv')\n",
    "ulist.info()"
   ]
  },
  {
   "cell_type": "code",
   "execution_count": null,
   "metadata": {
    "collapsed": false
   },
   "outputs": [],
   "source": [
    "cpltr = pd.read_csv('data/coupon_list_train.csv')\n",
    "cpltr.info()"
   ]
  },
  {
   "cell_type": "code",
   "execution_count": null,
   "metadata": {
    "collapsed": false
   },
   "outputs": [],
   "source": [
    "cpdtr = pd.read_csv('data/coupon_detail_train.csv')\n",
    "cpdtr.info()"
   ]
  },
  {
   "cell_type": "code",
   "execution_count": null,
   "metadata": {
    "collapsed": false
   },
   "outputs": [],
   "source": [
    "cplte = pd.read_csv('data/coupon_list_test.csv')\n",
    "cplte.info()"
   ]
  },
  {
   "cell_type": "code",
   "execution_count": null,
   "metadata": {
    "collapsed": false
   },
   "outputs": [],
   "source": [
    "train = pd.merge(cpdtr, cpltr, how='inner', on='COUPON_ID_hash')\n",
    "train = train[[\"COUPON_ID_hash\",\"USER_ID_hash\",\n",
    "    \"GENRE_NAME\",\"DISCOUNT_PRICE\",\"PRICE_RATE\",\n",
    "    \"USABLE_DATE_MON\",\"USABLE_DATE_TUE\",\"USABLE_DATE_WED\",\"USABLE_DATE_THU\",\n",
    "    \"USABLE_DATE_FRI\",\"USABLE_DATE_SAT\",\"USABLE_DATE_SUN\",\"USABLE_DATE_HOLIDAY\",\n",
    "    \"USABLE_DATE_BEFORE_HOLIDAY\",\"large_area_name\",\"ken_name\",\"small_area_name\"]]\n",
    "train.info()"
   ]
  },
  {
   "cell_type": "code",
   "execution_count": null,
   "metadata": {
    "collapsed": false
   },
   "outputs": [],
   "source": [
    "cplte['USER_ID_hash'] = 'dummyuser'\n",
    "cpchar = cplte[[\"COUPON_ID_hash\",\"USER_ID_hash\",\n",
    "    \"GENRE_NAME\",\"DISCOUNT_PRICE\",\"PRICE_RATE\",\n",
    "    \"USABLE_DATE_MON\",\"USABLE_DATE_TUE\",\"USABLE_DATE_WED\",\"USABLE_DATE_THU\",\n",
    "    \"USABLE_DATE_FRI\",\"USABLE_DATE_SAT\",\"USABLE_DATE_SUN\",\"USABLE_DATE_HOLIDAY\",\n",
    "    \"USABLE_DATE_BEFORE_HOLIDAY\",\"large_area_name\",\"ken_name\",\"small_area_name\"]]\n",
    "cpchar[:3]"
   ]
  },
  {
   "cell_type": "code",
   "execution_count": null,
   "metadata": {
    "collapsed": false
   },
   "outputs": [],
   "source": [
    "cpchar.info()"
   ]
  },
  {
   "cell_type": "code",
   "execution_count": null,
   "metadata": {
    "collapsed": false
   },
   "outputs": [],
   "source": [
    "train = pd.concat([train, cpchar])\n",
    "train.index = pd.Index(range(len(train)))\n",
    "train.info()"
   ]
  },
  {
   "cell_type": "code",
   "execution_count": null,
   "metadata": {
    "collapsed": false
   },
   "outputs": [],
   "source": [
    "train = train.fillna(1)"
   ]
  },
  {
   "cell_type": "code",
   "execution_count": null,
   "metadata": {
    "collapsed": true
   },
   "outputs": [],
   "source": [
    "from math import log10\n",
    "from math import pow\n",
    "import sys"
   ]
  },
  {
   "cell_type": "code",
   "execution_count": null,
   "metadata": {
    "collapsed": false
   },
   "outputs": [],
   "source": [
    "train.loc[train.DISCOUNT_PRICE <= 0, 'DISCOUNT_PRICE'] = 0.00001\n",
    "train.DISCOUNT_PRICE = train.DISCOUNT_PRICE.apply(lambda x: 1. / log10(x))\n",
    "train.PRICE_RATE = train.PRICE_RATE.apply(lambda x: pow(x, 2) / 10000.)"
   ]
  },
  {
   "cell_type": "code",
   "execution_count": null,
   "metadata": {
    "collapsed": false
   },
   "outputs": [],
   "source": [
    "train[:3]"
   ]
  },
  {
   "cell_type": "code",
   "execution_count": null,
   "metadata": {
    "collapsed": false
   },
   "outputs": [],
   "source": [
    "train = pd.get_dummies(train, columns=['GENRE_NAME', 'large_area_name', 'ken_name', 'small_area_name'])"
   ]
  },
  {
   "cell_type": "code",
   "execution_count": null,
   "metadata": {
    "collapsed": false
   },
   "outputs": [],
   "source": [
    "test = train.loc[train.USER_ID_hash == 'dummyuser']\n",
    "test.info()"
   ]
  },
  {
   "cell_type": "code",
   "execution_count": null,
   "metadata": {
    "collapsed": false
   },
   "outputs": [],
   "source": [
    "test.columns"
   ]
  },
  {
   "cell_type": "code",
   "execution_count": null,
   "metadata": {
    "collapsed": false
   },
   "outputs": [],
   "source": [
    "# test <- test[,-2]\n",
    "del test['USER_ID_hash']\n",
    "test.info()"
   ]
  },
  {
   "cell_type": "code",
   "execution_count": null,
   "metadata": {
    "collapsed": false
   },
   "outputs": [],
   "source": [
    "train = train.loc[train.USER_ID_hash != 'dummyuser']\n",
    "train.info()"
   ]
  },
  {
   "cell_type": "code",
   "execution_count": null,
   "metadata": {
    "collapsed": false
   },
   "outputs": [],
   "source": [
    "train.columns"
   ]
  },
  {
   "cell_type": "code",
   "execution_count": null,
   "metadata": {
    "collapsed": false
   },
   "outputs": [],
   "source": [
    "del train['COUPON_ID_hash']\n",
    "grouped = train.groupby(['USER_ID_hash'])\n",
    "uchar = grouped.mean()\n",
    "uchar.DISCOUNT_PRICE = 1\n",
    "uchar.PRICE_RATE = 1"
   ]
  },
  {
   "cell_type": "code",
   "execution_count": null,
   "metadata": {
    "collapsed": false
   },
   "outputs": [],
   "source": [
    "W = np.diag(([2.05] * 13) + ([2.01] * 1) + ([-0.13] * 1) + ([0] * 9) + ([0.51] * 9) + ([1.01] * 47) + ([4.75] * 55))\n",
    "W.shape"
   ]
  },
  {
   "cell_type": "code",
   "execution_count": null,
   "metadata": {
    "collapsed": false
   },
   "outputs": [],
   "source": [
    "test_mx = test.copy()\n",
    "del test_mx['COUPON_ID_hash']\n",
    "r1 = np.dot((uchar.loc[:,:]).as_matrix(), W)\n",
    "r2 = np.dot(r1, test_mx.as_matrix().T)\n",
    "r2.shape"
   ]
  }
 ],
 "metadata": {
  "kernelspec": {
   "display_name": "Python 2",
   "language": "python",
   "name": "python2"
  },
  "language_info": {
   "codemirror_mode": {
    "name": "ipython",
    "version": 2
   },
   "file_extension": ".py",
   "mimetype": "text/x-python",
   "name": "python",
   "nbconvert_exporter": "python",
   "pygments_lexer": "ipython2",
   "version": "2.7.10"
  }
 },
 "nbformat": 4,
 "nbformat_minor": 0
}
