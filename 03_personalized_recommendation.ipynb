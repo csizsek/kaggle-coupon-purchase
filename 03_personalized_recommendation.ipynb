{
 "cells": [
  {
   "cell_type": "markdown",
   "metadata": {},
   "source": [
    "#Personalized Recommendation"
   ]
  },
  {
   "cell_type": "code",
   "execution_count": null,
   "metadata": {
    "collapsed": true
   },
   "outputs": [],
   "source": [
    "import numpy as np\n",
    "import pandas as pd\n",
    "from pandas import DataFrame, Series\n",
    "import matplotlib.pyplot as plt"
   ]
  },
  {
   "cell_type": "code",
   "execution_count": null,
   "metadata": {
    "collapsed": false
   },
   "outputs": [],
   "source": [
    "%pylab inline"
   ]
  },
  {
   "cell_type": "markdown",
   "metadata": {},
   "source": [
    "##Load the Tables"
   ]
  },
  {
   "cell_type": "code",
   "execution_count": null,
   "metadata": {
    "collapsed": false
   },
   "outputs": [],
   "source": [
    "us = pd.read_csv('data/user_list.csv')\n",
    "us[:1]"
   ]
  },
  {
   "cell_type": "code",
   "execution_count": null,
   "metadata": {
    "collapsed": false
   },
   "outputs": [],
   "source": [
    "cls = pd.read_csv('data/coupon_list_train_translated.csv')\n",
    "cls[:5]"
   ]
  },
  {
   "cell_type": "code",
   "execution_count": null,
   "metadata": {
    "collapsed": false
   },
   "outputs": [],
   "source": [
    "cvs = pd.read_csv('data/coupon_visit_train.csv')\n",
    "cvs[:20]"
   ]
  },
  {
   "cell_type": "code",
   "execution_count": null,
   "metadata": {
    "collapsed": false
   },
   "outputs": [],
   "source": [
    "cds = pd.read_csv('data/coupon_detail_train.csv')\n",
    "cds[:1]"
   ]
  },
  {
   "cell_type": "code",
   "execution_count": null,
   "metadata": {
    "collapsed": false
   },
   "outputs": [],
   "source": [
    "cas = pd.read_csv('data/coupon_area_train.csv')\n",
    "cas[:1]"
   ]
  },
  {
   "cell_type": "code",
   "execution_count": null,
   "metadata": {
    "collapsed": false
   },
   "outputs": [],
   "source": [
    "ls = pd.read_csv('data/prefecture_locations.csv')\n",
    "ls[:1]"
   ]
  },
  {
   "cell_type": "markdown",
   "metadata": {},
   "source": [
    "##Gather User Preferences"
   ]
  },
  {
   "cell_type": "code",
   "execution_count": null,
   "metadata": {
    "collapsed": false
   },
   "outputs": [],
   "source": [
    "import collections\n",
    "import json\n",
    "import pickle\n",
    "import traceback\n",
    "\n",
    "def prate_to_cat(prate):\n",
    "    if prate < 50:\n",
    "        return 'low'\n",
    "    elif prate < 60:\n",
    "        return 'medium'\n",
    "    else:\n",
    "        return 'high'\n",
    "    \n",
    "def cprice_to_cat(cprice):\n",
    "    if cprice < 4480:\n",
    "        return 'low'\n",
    "    elif cprice < 10500:\n",
    "        return 'medium'\n",
    "    else:\n",
    "        return 'high'\n",
    "\n",
    "def dprice_to_cat(dprice):\n",
    "    if dprice < 1980:\n",
    "        return 'low'\n",
    "    elif dprice < 3880:\n",
    "        return 'medium'\n",
    "    else:\n",
    "        return 'high'\n",
    "\n",
    "def gather_user_preferences():\n",
    "    ups = {}\n",
    "    for i in us.index[:10]:\n",
    "        u = us.ix[i]\n",
    "        uh = u.USER_ID_hash\n",
    "        ups[uh] = {\n",
    "            'view_cnt': 0,\n",
    "            'buy_cnt': 0,\n",
    "            'capsule_text_view_cnt': collections.defaultdict(int),\n",
    "            'capsule_text_buy_cnt': collections.defaultdict(int),\n",
    "            'genre_view_cnt': collections.defaultdict(int),\n",
    "            'genre_buy_cnt': collections.defaultdict(int),\n",
    "            'large_area_view_cnt': collections.defaultdict(int),\n",
    "            'large_area_buy_cnt': collections.defaultdict(int),\n",
    "            'ken_view_cnt': collections.defaultdict(int),\n",
    "            'ken_buy_cnt': collections.defaultdict(int),\n",
    "            'small_area_view_cnt': collections.defaultdict(int),\n",
    "            'small_area_buy_cnt': collections.defaultdict(int),\n",
    "            'prate_view_cnt': collections.defaultdict(int),\n",
    "            'prate_buy_cnt': collections.defaultdict(int),\n",
    "            'cprice_view_cnt': collections.defaultdict(int),\n",
    "            'cprice_buy_cnt': collections.defaultdict(int),\n",
    "            'dprice_view_cnt': collections.defaultdict(int),\n",
    "            'dprice_buy_cnt': collections.defaultdict(int)\n",
    "        }\n",
    "    exception_count = 0\n",
    "    for j in cvs.index[:1413]:\n",
    "        if j % 10000 == 0:\n",
    "            print j\n",
    "        cv = cvs.ix[j]\n",
    "        uh = cv.USER_ID_hash\n",
    "        ch = cv.VIEW_COUPON_ID_hash\n",
    "        try:\n",
    "            c = cls[cls.COUPON_ID_hash == cv.VIEW_COUPON_ID_hash].head(1)\n",
    "            capsule_text = c.CAPSULE_TEXT.tolist()[0]\n",
    "            genre = c.GENRE_NAME.tolist()[0]\n",
    "            large_area = c.large_area_name.tolist()[0]\n",
    "            ken = c.ken_name.tolist()[0]\n",
    "            small_area = c.small_area_name.tolist()[0]\n",
    "            prate = prate_to_cat(c.PRICE_RATE.tolist()[0])\n",
    "            cprice = cprice_to_cat(c.CATALOG_PRICE.tolist()[0])\n",
    "            dprice = dprice_to_cat(c.DISCOUNT_PRICE.tolist()[0])\n",
    "            \n",
    "            if cv.PURCHASE_FLG == 1:\n",
    "                ups[uh]['buy_cnt'] += 1\n",
    "                ups[uh]['capsule_text_buy_cnt'][capsule_text] += 1\n",
    "                ups[uh]['genre_buy_cnt'][genre] += 1\n",
    "                ups[uh]['large_area_buy_cnt'][large_area] += 1\n",
    "                ups[uh]['ken_buy_cnt'][ken] += 1\n",
    "                ups[uh]['small_area_buy_cnt'][small_area] += 1\n",
    "                ups[uh]['prate_buy_cnt'][prate] += 1\n",
    "                ups[uh]['cprice_buy_cnt'][cprice] += 1\n",
    "                ups[uh]['dprice_buy_cnt'][dprice] += 1\n",
    "            else:\n",
    "                ups[uh]['view_cnt'] += 1\n",
    "                ups[uh]['capsule_text_view_cnt'][capsule_text] += 1\n",
    "                ups[uh]['genre_view_cnt'][genre] += 1\n",
    "                ups[uh]['large_area_view_cnt'][large_area] += 1\n",
    "                ups[uh]['ken_view_cnt'][ken] += 1\n",
    "                ups[uh]['small_area_view_cnt'][small_area] += 1\n",
    "                ups[uh]['prate_view_cnt'][prate] += 1\n",
    "                ups[uh]['cprice_view_cnt'][cprice] += 1\n",
    "                ups[uh]['dprice_view_cnt'][dprice] += 1\n",
    "        except Exception as e:\n",
    "            exception_count += 1\n",
    "    print \"exception count: {0}\".format(exception_count)\n",
    "        \n",
    "    return ups\n",
    "ups = gather_user_preferences()\n",
    "print \"ups size: {0}\".format(len(ups))\n",
    "#print ups.keys()[0]\n",
    "#print json.dumps(ups[ups.keys()[0]], indent=2)\n",
    "# output = open('ups.pkl', 'wb')\n",
    "# pickle.dump(ups, output)\n",
    "# output.close()"
   ]
  },
  {
   "cell_type": "code",
   "execution_count": null,
   "metadata": {
    "collapsed": false
   },
   "outputs": [],
   "source": [
    "ups = pickle.load(open('tmp/ups3.pkl'))\n",
    "len(ups)"
   ]
  },
  {
   "cell_type": "code",
   "execution_count": null,
   "metadata": {
    "collapsed": false
   },
   "outputs": [],
   "source": [
    "print ups.keys()[0]\n",
    "print json.dumps(ups[ups.keys()[0]], indent=2)"
   ]
  },
  {
   "cell_type": "markdown",
   "metadata": {},
   "source": [
    "##Scoring Function"
   ]
  },
  {
   "cell_type": "code",
   "execution_count": null,
   "metadata": {
    "collapsed": false
   },
   "outputs": [],
   "source": [
    "clt = pd.read_csv('data/coupon_list_test_translated.csv')\n",
    "clt[20:40]"
   ]
  },
  {
   "cell_type": "code",
   "execution_count": null,
   "metadata": {
    "collapsed": false
   },
   "outputs": [],
   "source": [
    "BUY = 1.0\n",
    "VIEW = 1.0\n",
    "\n",
    "CAPSULE = 1.0\n",
    "GENRE = 1.0\n",
    "\n",
    "LAREA = 1.0\n",
    "KEN = 1.0\n",
    "SAREA = 1.0\n",
    "\n",
    "PRATE = 1.0\n",
    "CPRICE = 1.0\n",
    "DPRICE = 1.0\n",
    "\n",
    "def prate_to_cat(prate):\n",
    "    if prate < 50:\n",
    "        return 'low'\n",
    "    elif prate < 60:\n",
    "        return 'medium'\n",
    "    else:\n",
    "        return 'high'\n",
    "    \n",
    "def cprice_to_cat(cprice):\n",
    "    if cprice < 4480:\n",
    "        return 'low'\n",
    "    elif cprice < 10500:\n",
    "        return 'medium'\n",
    "    else:\n",
    "        return 'high'\n",
    "\n",
    "def dprice_to_cat(dprice):\n",
    "    if dprice < 1980:\n",
    "        return 'low'\n",
    "    elif dprice < 3880:\n",
    "        return 'medium'\n",
    "    else:\n",
    "        return 'high'\n",
    "\n",
    "def score(uh, ch):\n",
    "    u = ups[uh]\n",
    "    c = clt[clt.COUPON_ID_hash == ch].head(1)\n",
    "    s = 0\n",
    "\n",
    "    view_cnt = float(u['view_cnt'])\n",
    "    if view_cnt == 0:\n",
    "        view_cnt = 1000\n",
    "    print \"view_cnt: \", view_cnt\n",
    "\n",
    "    buy_cnt = float(u['buy_cnt'])\n",
    "    if buy_cnt == 0:\n",
    "        buy_cnt = 1000\n",
    "    print \"buy_cnt: \", buy_cnt\n",
    "\n",
    "    # capsule\n",
    "    capsule = c.CAPSULE_TEXT.tolist()[0]\n",
    "    capsule_view = u['capsule_text_view_cnt'][capsule]/view_cnt\n",
    "    print \"capsule_view: \", capsule_view\n",
    "    capsule_buy = u['capsule_text_buy_cnt'][capsule]/buy_cnt\n",
    "    print \"capsule_buy: \", capsule_buy\n",
    "\n",
    "    # genre\n",
    "    genre = c.GENRE_NAME.tolist()[0]\n",
    "    genre_view = u['genre_view_cnt'][genre]/view_cnt\n",
    "    print \"genre_view: \", genre_view\n",
    "    genre_buy = u['genre_buy_cnt'][genre]/buy_cnt\n",
    "    print \"genre_buy: \", genre_buy\n",
    "\n",
    "    # sarea\n",
    "    sarea = c.small_area_name.tolist()[0]\n",
    "    sarea_view = u['small_area_view_cnt'][sarea]/view_cnt\n",
    "    print \"sarea_view: \", sarea_view\n",
    "    sarea_buy = u['small_area_buy_cnt'][sarea]/buy_cnt\n",
    "    print \"sarea_buy: \", sarea_buy\n",
    "\n",
    "    # ken\n",
    "    ken = c.ken_name.tolist()[0]\n",
    "    ken_view = u['ken_view_cnt'][ken]/view_cnt\n",
    "    print \"ken_view: \", ken_view\n",
    "    ken_buy = u['ken_buy_cnt'][ken]/buy_cnt\n",
    "    print \"ken_buy: \", ken_buy\n",
    "\n",
    "    # larea\n",
    "    larea = c.large_area_name.tolist()[0]\n",
    "    larea_view = u['large_area_view_cnt'][larea]/view_cnt\n",
    "    print \"larea_view: \", larea_view\n",
    "    larea_buy = u['large_area_buy_cnt'][larea]/buy_cnt\n",
    "    print \"larea_buy: \", larea_buy\n",
    "\n",
    "    # prate\n",
    "    prate = prate_to_cat(int(c.PRICE_RATE .tolist()[0]))\n",
    "    prate_view = u['prate_view_cnt'][prate]/view_cnt\n",
    "    print \"prate_view: \", prate_view\n",
    "    prate_buy = u['prate_buy_cnt'][prate]/buy_cnt\n",
    "    print \"prate_buy: \", prate_buy\n",
    "\n",
    "    # cprice\n",
    "    cprice = cprice_to_cat(int(c.CATALOG_PRICE.tolist()[0]))\n",
    "    cprice_view = u['cprice_view_cnt'][cprice]/view_cnt\n",
    "    print \"cprice_view: \", cprice_view\n",
    "    cprice_buy = u['cprice_buy_cnt'][cprice]/buy_cnt\n",
    "    print \"cprice_buy: \", cprice_buy\n",
    "\n",
    "    # dprice\n",
    "    dprice = dprice_to_cat(int(c.DISCOUNT_PRICE .tolist()[0]))\n",
    "    dprice_view = u['dprice_buy_cnt'][dprice]/view_cnt\n",
    "    print \"dprice_view: \", dprice_view\n",
    "    dprice_buy = u['dprice_buy_cnt'][dprice]/buy_cnt\n",
    "    print \"dprice_buy: \", dprice_buy\n",
    "\n",
    "    s = (\n",
    "        capsule_view * CAPSULE * VIEW +\n",
    "        capsule_buy * CAPSULE * BUY +\n",
    "        genre_view * GENRE * VIEW +\n",
    "        genre_buy * GENRE * BUY +\n",
    "\n",
    "        sarea_view * SAREA * VIEW +\n",
    "        sarea_buy * SAREA * BUY +\n",
    "        ken_view * KEN * VIEW +\n",
    "        ken_buy * KEN * BUY +\n",
    "        larea_view * LAREA * VIEW +\n",
    "        larea_buy * LAREA * BUY +\n",
    "\n",
    "        prate_view * PRATE * VIEW +\n",
    "        prate_buy * PRATE * BUY +\n",
    "        cprice_view * CPRICE * VIEW +\n",
    "        cprice_buy * CPRICE * BUY +\n",
    "        dprice_view * DPRICE * VIEW +\n",
    "        dprice_buy * DPRICE * BUY\n",
    "    )\n",
    "    return s\n",
    "\n",
    "    return s\n",
    "score('17f0f6675b8a3f2d9b2f2035cf9b6c57', '1124ba8cedc687ac5e0b51916006d58d')"
   ]
  },
  {
   "cell_type": "markdown",
   "metadata": {},
   "source": [
    "##Recommended Coupons for a User"
   ]
  },
  {
   "cell_type": "code",
   "execution_count": null,
   "metadata": {
    "collapsed": true
   },
   "outputs": [],
   "source": [
    "import datetime\n",
    "counter = 0"
   ]
  },
  {
   "cell_type": "code",
   "execution_count": null,
   "metadata": {
    "collapsed": false
   },
   "outputs": [],
   "source": [
    "def recommended_coupons(uh):\n",
    "    global counter\n",
    "    if counter % 100 == 0:\n",
    "        print datetime.datetime.now(), counter\n",
    "    counter += 1\n",
    "    cs = clt\n",
    "    cs['SCORE'] = cs.COUPON_ID_hash.apply(lambda ch: score(uh, ch))\n",
    "    sum_score = cs.SCORE.sum()\n",
    "    cs = cs.sort(columns=['SCORE', 'CATALOG_PRICE'], ascending=False)\n",
    "    #cs = cs[cs.SCORE > (sum_score * 0.005)]\n",
    "    return \" \".join(cs.COUPON_ID_hash[:3].tolist())\n",
    "recommended_coupons('17f0f6675b8a3f2d9b2f2035cf9b6c57')"
   ]
  },
  {
   "cell_type": "markdown",
   "metadata": {},
   "source": [
    "##Submit"
   ]
  },
  {
   "cell_type": "code",
   "execution_count": null,
   "metadata": {
    "collapsed": false
   },
   "outputs": [],
   "source": [
    "s = pd.read_csv('data/sample_submission.csv')\n",
    "s = s[:]\n",
    "s[:5]\n",
    "len(s)"
   ]
  },
  {
   "cell_type": "code",
   "execution_count": null,
   "metadata": {
    "collapsed": false
   },
   "outputs": [],
   "source": [
    "#s.PURCHASED_COUPONS = s.USER_ID_hash.apply(lambda uh: recommended_coupons(uh))"
   ]
  }
 ],
 "metadata": {
  "kernelspec": {
   "display_name": "Python 2",
   "language": "python",
   "name": "python2"
  },
  "language_info": {
   "codemirror_mode": {
    "name": "ipython",
    "version": 2
   },
   "file_extension": ".py",
   "mimetype": "text/x-python",
   "name": "python",
   "nbconvert_exporter": "python",
   "pygments_lexer": "ipython2",
   "version": "2.7.10"
  }
 },
 "nbformat": 4,
 "nbformat_minor": 0
}
