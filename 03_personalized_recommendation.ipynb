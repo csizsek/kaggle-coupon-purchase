{
 "cells": [
  {
   "cell_type": "markdown",
   "metadata": {},
   "source": [
    "#Personalized Recommendation"
   ]
  },
  {
   "cell_type": "code",
   "execution_count": null,
   "metadata": {
    "collapsed": true
   },
   "outputs": [],
   "source": [
    "import numpy as np\n",
    "import pandas as pd\n",
    "from pandas import DataFrame, Series\n",
    "import matplotlib.pyplot as plt"
   ]
  },
  {
   "cell_type": "code",
   "execution_count": null,
   "metadata": {
    "collapsed": false
   },
   "outputs": [],
   "source": [
    "%pylab inline"
   ]
  },
  {
   "cell_type": "markdown",
   "metadata": {},
   "source": [
    "##Load the Tables"
   ]
  },
  {
   "cell_type": "code",
   "execution_count": null,
   "metadata": {
    "collapsed": false
   },
   "outputs": [],
   "source": [
    "us = pd.read_csv('data/user_list.csv')\n",
    "us[:1]"
   ]
  },
  {
   "cell_type": "code",
   "execution_count": null,
   "metadata": {
    "collapsed": false
   },
   "outputs": [],
   "source": [
    "cls = pd.read_csv('data/coupon_list_train_translated.csv')\n",
    "cls[:1]"
   ]
  },
  {
   "cell_type": "code",
   "execution_count": null,
   "metadata": {
    "collapsed": false
   },
   "outputs": [],
   "source": [
    "cvs = pd.read_csv('data/coupon_visit_train.csv')\n",
    "cvs[:1]"
   ]
  },
  {
   "cell_type": "code",
   "execution_count": null,
   "metadata": {
    "collapsed": false
   },
   "outputs": [],
   "source": [
    "cds = pd.read_csv('data/coupon_detail_train.csv')\n",
    "cds[:1]"
   ]
  },
  {
   "cell_type": "code",
   "execution_count": null,
   "metadata": {
    "collapsed": false
   },
   "outputs": [],
   "source": [
    "cas = pd.read_csv('data/coupon_area_train.csv')\n",
    "cas[:1]"
   ]
  },
  {
   "cell_type": "code",
   "execution_count": null,
   "metadata": {
    "collapsed": false
   },
   "outputs": [],
   "source": [
    "ls = pd.read_csv('data/prefecture_locations.csv')\n",
    "ls[:1]"
   ]
  },
  {
   "cell_type": "markdown",
   "metadata": {},
   "source": [
    "##Gather User Preferences"
   ]
  },
  {
   "cell_type": "code",
   "execution_count": null,
   "metadata": {
    "collapsed": false
   },
   "outputs": [],
   "source": [
    "import collections\n",
    "import json\n",
    "def gather_user_preferences():\n",
    "    ups = {}\n",
    "    for i in us.index[:]:\n",
    "        u = us.ix[i]\n",
    "        uh = u.USER_ID_hash\n",
    "        ups[uh] = {\n",
    "            'view_cnt': 0,\n",
    "            'buy_cnt': 0,\n",
    "            'genre_view_cnt': collections.defaultdict(int),\n",
    "            'genre_buy_cnt': collections.defaultdict(int),\n",
    "            'large_area_view_cnt': collections.defaultdict(int),\n",
    "            'large_area_buy_cnt': collections.defaultdict(int),\n",
    "            'ken_view_cnt': collections.defaultdict(int),\n",
    "            'ken_buy_cnt': collections.defaultdict(int),\n",
    "            'small_area_view_cnt': collections.defaultdict(int),\n",
    "            'small_area_buy_cnt': collections.defaultdict(int)\n",
    "        }\n",
    "    for j in cvs.index[:]:\n",
    "        if j % 10000 == 0:\n",
    "            print j\n",
    "        cv = cvs.ix[j]\n",
    "        uh = cv.USER_ID_hash\n",
    "        ch = cv.VIEW_COUPON_ID_hash\n",
    "        try:\n",
    "            c = cls[cls.COUPON_ID_hash == cv.VIEW_COUPON_ID_hash].head(1)\n",
    "            genre = c.GENRE_NAME.tolist()[0]\n",
    "            large_area = c.large_area_name.tolist()[0]\n",
    "            ken = c.ken_name.tolist()[0]\n",
    "            small_area = c.small_area_name.tolist()[0]\n",
    "            if cv.PURCHASE_FLG == 1:\n",
    "                ups[uh]['buy_cnt'] += 1\n",
    "                ups[uh]['genre_buy_cnt'][genre] += 1\n",
    "                ups[uh]['large_area_buy_cnt'][large_area] += 1\n",
    "                ups[uh]['ken_buy_cnt'][ken] += 1\n",
    "                ups[uh]['small_area_buy_cnt'][small_area] += 1\n",
    "            else:\n",
    "                ups[uh]['view_cnt'] += 1\n",
    "                ups[uh]['genre_view_cnt'][genre] += 1\n",
    "                ups[uh]['large_area_view_cnt'][large_area] += 1\n",
    "                ups[uh]['ken_view_cnt'][ken] += 1\n",
    "                ups[uh]['small_area_view_cnt'][small_area] += 1\n",
    "        except Exception as e:\n",
    "            pass\n",
    "        \n",
    "    return ups\n",
    "ups = gather_user_preferences()\n",
    "len(ups)"
   ]
  },
  {
   "cell_type": "code",
   "execution_count": null,
   "metadata": {
    "collapsed": false
   },
   "outputs": [],
   "source": []
  }
 ],
 "metadata": {
  "kernelspec": {
   "display_name": "Python 2",
   "language": "python",
   "name": "python2"
  },
  "language_info": {
   "codemirror_mode": {
    "name": "ipython",
    "version": 2
   },
   "file_extension": ".py",
   "mimetype": "text/x-python",
   "name": "python",
   "nbconvert_exporter": "python",
   "pygments_lexer": "ipython2",
   "version": "2.7.10"
  }
 },
 "nbformat": 4,
 "nbformat_minor": 0
}
