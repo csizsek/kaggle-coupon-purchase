{
 "cells": [
  {
   "cell_type": "markdown",
   "metadata": {},
   "source": [
    "#Personalized Recommendation"
   ]
  },
  {
   "cell_type": "code",
   "execution_count": null,
   "metadata": {
    "collapsed": true
   },
   "outputs": [],
   "source": [
    "import numpy as np\n",
    "import pandas as pd\n",
    "from pandas import DataFrame, Series\n",
    "import matplotlib.pyplot as plt"
   ]
  },
  {
   "cell_type": "code",
   "execution_count": null,
   "metadata": {
    "collapsed": false
   },
   "outputs": [],
   "source": [
    "%pylab inline"
   ]
  },
  {
   "cell_type": "markdown",
   "metadata": {},
   "source": [
    "##Load the Tables"
   ]
  },
  {
   "cell_type": "code",
   "execution_count": null,
   "metadata": {
    "collapsed": false
   },
   "outputs": [],
   "source": [
    "us = pd.read_csv('data/user_list.csv')\n",
    "us[:1]"
   ]
  },
  {
   "cell_type": "code",
   "execution_count": null,
   "metadata": {
    "collapsed": false
   },
   "outputs": [],
   "source": [
    "cls = pd.read_csv('data/coupon_list_train_translated.csv')\n",
    "cls[:1]"
   ]
  },
  {
   "cell_type": "code",
   "execution_count": null,
   "metadata": {
    "collapsed": false
   },
   "outputs": [],
   "source": [
    "cvs = pd.read_csv('data/coupon_visit_train.csv')\n",
    "cvs[:1]"
   ]
  },
  {
   "cell_type": "code",
   "execution_count": null,
   "metadata": {
    "collapsed": false
   },
   "outputs": [],
   "source": [
    "cds = pd.read_csv('data/coupon_detail_train.csv')\n",
    "cds[:1]"
   ]
  },
  {
   "cell_type": "code",
   "execution_count": null,
   "metadata": {
    "collapsed": false
   },
   "outputs": [],
   "source": [
    "cas = pd.read_csv('data/coupon_area_train.csv')\n",
    "cas[:1]"
   ]
  },
  {
   "cell_type": "code",
   "execution_count": null,
   "metadata": {
    "collapsed": false
   },
   "outputs": [],
   "source": [
    "ls = pd.read_csv('data/prefecture_locations.csv')\n",
    "ls[:1]"
   ]
  },
  {
   "cell_type": "markdown",
   "metadata": {},
   "source": [
    "##Gather User Preferences"
   ]
  },
  {
   "cell_type": "code",
   "execution_count": null,
   "metadata": {
    "collapsed": false
   },
   "outputs": [],
   "source": [
    "import collections\n",
    "import json\n",
    "def gather_user_preferences():\n",
    "    ups = {}\n",
    "    for i in us.index[:10]:\n",
    "        u = us.ix[i]\n",
    "        uh = u.USER_ID_hash\n",
    "        ups[uh] = {\n",
    "            'genre_view_cnt': collections.defaultdict(int),\n",
    "            'genre_buy_cnt': collections.defaultdict(int),\n",
    "            'location_view_cnt': collections.defaultdict(int),\n",
    "            'location_buy_cnt': collections.defaultdict(int)\n",
    "        }\n",
    "    for j in cvs.index[:1413]:\n",
    "        if j % 10000 == 0:\n",
    "            print j\n",
    "        cv = cvs.ix[j]\n",
    "        uh = cv.USER_ID_hash\n",
    "        ch = cv.VIEW_COUPON_ID_hash\n",
    "        try:\n",
    "            c = cls[cls.COUPON_ID_hash == cv.VIEW_COUPON_ID_hash].head(1)\n",
    "            genre = c.GENRE_NAME.tolist()[0]\n",
    "        except:\n",
    "            pass\n",
    "        if cv.PURCHASE_FLG == 1:\n",
    "            ups[uh]['genre_buy_cnt'][genre] += 1\n",
    "        else:\n",
    "            ups[uh]['genre_view_cnt'][genre] += 1\n",
    "        \n",
    "    return ups\n",
    "ups = gather_user_preferences()\n",
    "print json.dumps(ups, indent=2)"
   ]
  },
  {
   "cell_type": "code",
   "execution_count": null,
   "metadata": {
    "collapsed": false
   },
   "outputs": [],
   "source": [
    "cls[cls.COUPON_ID_hash == '34c48f84026e08355dc3bd19b427f09a'].head(1).GENRE_NAME.tolist()[0]"
   ]
  }
 ],
 "metadata": {
  "kernelspec": {
   "display_name": "Python 2",
   "language": "python",
   "name": "python2"
  },
  "language_info": {
   "codemirror_mode": {
    "name": "ipython",
    "version": 2
   },
   "file_extension": ".py",
   "mimetype": "text/x-python",
   "name": "python",
   "nbconvert_exporter": "python",
   "pygments_lexer": "ipython2",
   "version": "2.7.10"
  }
 },
 "nbformat": 4,
 "nbformat_minor": 0
}
