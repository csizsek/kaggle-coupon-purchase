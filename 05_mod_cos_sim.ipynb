{
 "cells": [
  {
   "cell_type": "code",
   "execution_count": null,
   "metadata": {
    "collapsed": true
   },
   "outputs": [],
   "source": [
    "import numpy as np\n",
    "import pandas as pd\n",
    "from pandas import DataFrame, Series\n",
    "from math import log10\n",
    "from math import pow"
   ]
  },
  {
   "cell_type": "code",
   "execution_count": null,
   "metadata": {
    "collapsed": true
   },
   "outputs": [],
   "source": [
    "# load the data\n",
    "ulist = pd.read_csv('data/user_list.csv')\n",
    "cpltr = pd.read_csv('data/coupon_list_train.csv')\n",
    "cplte = pd.read_csv('data/coupon_list_test.csv')\n",
    "cpdtr = pd.read_csv('data/coupon_detail_train.csv')\n",
    "cpvtr = pd.read_csv('data/coupon_visit_train.csv')\n",
    "cpvtr = cpvtr.loc[cpvtr.PURCHASE_FLG == 0, ['VIEW_COUPON_ID_hash', 'USER_ID_hash']]\n",
    "cpvtr.columns = ['COUPON_ID_hash', 'USER_ID_hash']"
   ]
  },
  {
   "cell_type": "code",
   "execution_count": null,
   "metadata": {
    "collapsed": false
   },
   "outputs": [],
   "source": [
    "# fix validity period\n",
    "cpltr.loc[pd.isnull(cpltr.VALIDPERIOD), 'VALIDPERIOD'] = -1\n",
    "cpltr.VALIDPERIOD = cpltr.VALIDPERIOD + 1\n",
    "cpltr.loc[cpltr.VALIDPERIOD > 0, 'VALIDPERIOD'] = 1\n",
    "\n",
    "cplte.loc[pd.isnull(cplte.VALIDPERIOD), 'VALIDPERIOD'] = -1\n",
    "cplte.VALIDPERIOD = cplte.VALIDPERIOD + 1\n",
    "cplte.loc[cplte.VALIDPERIOD > 0, 'VALIDPERIOD'] = 1"
   ]
  },
  {
   "cell_type": "code",
   "execution_count": null,
   "metadata": {
    "collapsed": false
   },
   "outputs": [],
   "source": [
    "# compute sums for usable dates\n",
    "for i in range(9):\n",
    "    c = cpltr.columns[11 + i]\n",
    "    cpltr.iloc[:, 11 + i] = cpltr.icol(11 + i).fillna(0)\n",
    "    cpltr.loc[cpltr[c] > 1, c] = 1\n",
    "    cplte.iloc[:, 11 + i] = cplte.icol(11 + i).fillna(0)\n",
    "    cplte.loc[cplte[c] > 1, c]\n",
    "cpltr['USABLE_DATE_sum'] = cpltr.iloc[:,11:20].sum(axis=1)\n",
    "cplte['USABLE_DATE_sum'] = cplte.iloc[:,11:20].sum(axis=1)"
   ]
  },
  {
   "cell_type": "code",
   "execution_count": null,
   "metadata": {
    "collapsed": false
   },
   "outputs": [],
   "source": [
    "# create training set\n",
    "train = pd.merge(cpdtr, cpltr, how='inner', on='COUPON_ID_hash', sort=True)\n",
    "train = train[[\"COUPON_ID_hash\",\n",
    "              \"USER_ID_hash\",\n",
    "              \"GENRE_NAME\",\n",
    "              \"DISCOUNT_PRICE\",\n",
    "              \"DISPPERIOD\",\n",
    "              \"large_area_name\",\n",
    "              \"small_area_name\",\n",
    "              \"VALIDPERIOD\",\n",
    "              \"USABLE_DATE_sum\"]]"
   ]
  },
  {
   "cell_type": "code",
   "execution_count": null,
   "metadata": {
    "collapsed": false
   },
   "outputs": [],
   "source": [
    "# create test set\n",
    "cplte['USER_ID_hash'] = 'dummyuser'\n",
    "cplte = cplte[[\"COUPON_ID_hash\",\n",
    "              \"USER_ID_hash\",\n",
    "              \"GENRE_NAME\",\n",
    "              \"DISCOUNT_PRICE\",\n",
    "              \"DISPPERIOD\",\n",
    "              \"large_area_name\",\n",
    "              \"small_area_name\",\n",
    "              \"VALIDPERIOD\",\n",
    "              \"USABLE_DATE_sum\"]]"
   ]
  },
  {
   "cell_type": "code",
   "execution_count": null,
   "metadata": {
    "collapsed": true
   },
   "outputs": [],
   "source": [
    "# append test set to train\n",
    "train = pd.concat([train, cplte])"
   ]
  },
  {
   "cell_type": "code",
   "execution_count": null,
   "metadata": {
    "collapsed": true
   },
   "outputs": [],
   "source": [
    "# create views set\n",
    "trainv = pd.merge(cpvtr, cpltr, how='inner', on='COUPON_ID_hash', sort=True)\n",
    "trainv = trainv[[\"COUPON_ID_hash\",\n",
    "              \"USER_ID_hash\",\n",
    "              \"GENRE_NAME\",\n",
    "              \"DISCOUNT_PRICE\",\n",
    "              \"DISPPERIOD\",\n",
    "              \"large_area_name\",\n",
    "              \"small_area_name\",\n",
    "              \"VALIDPERIOD\",\n",
    "              \"USABLE_DATE_sum\"]]"
   ]
  },
  {
   "cell_type": "code",
   "execution_count": null,
   "metadata": {
    "collapsed": false
   },
   "outputs": [],
   "source": [
    "# fill NAs (unnecessary, there are no NA values)\n",
    "train = train.fillna(1)\n",
    "trainv = trainv.fillna(1)"
   ]
  },
  {
   "cell_type": "code",
   "execution_count": null,
   "metadata": {
    "collapsed": false
   },
   "outputs": [],
   "source": [
    "# feature engineering\n",
    "train.loc[train.DISCOUNT_PRICE <= 0, 'DISCOUNT_PRICE'] = 0.00001\n",
    "train.DISCOUNT_PRICE = train.DISCOUNT_PRICE.apply(lambda x: 1. / log10(x))\n",
    "train.loc[train.DISPPERIOD > 7, 'DISPPERIOD'] = 7\n",
    "train.DISPPERIOD = train.DISPPERIOD / 7\n",
    "train.USABLE_DATE_sum = train.USABLE_DATE_sum / 9"
   ]
  },
  {
   "cell_type": "code",
   "execution_count": null,
   "metadata": {
    "collapsed": false
   },
   "outputs": [],
   "source": [
    "# convert categories to dummies\n",
    "train = pd.get_dummies(train, columns=['GENRE_NAME', 'large_area_name', 'small_area_name', 'VALIDPERIOD'])\n",
    "trainv = pd.get_dummies(trainv, columns=['GENRE_NAME', 'large_area_name', 'small_area_name', 'VALIDPERIOD'])"
   ]
  },
  {
   "cell_type": "code",
   "execution_count": null,
   "metadata": {
    "collapsed": true
   },
   "outputs": [],
   "source": [
    "# separate test and train\n",
    "test = train.loc[train.USER_ID_hash == 'dummyuser']\n",
    "del test['USER_ID_hash']\n",
    "train = train.loc[train.USER_ID_hash != 'dummyuser']"
   ]
  },
  {
   "cell_type": "code",
   "execution_count": null,
   "metadata": {
    "collapsed": false
   },
   "outputs": [],
   "source": [
    "# numeric attributes set to 1 before cosine\n",
    "train.DISCOUNT_PRICE = 1\n",
    "train.DISPPERIOD = 1\n",
    "train.USABLE_DATE_sum = 1\n",
    "\n",
    "# !!!\n",
    "trainv.DISCOUNT_PRICE = 1\n",
    "train.DISPPERIOD = 1\n",
    "train.USABLE_DATE_sum = 1"
   ]
  },
  {
   "cell_type": "code",
   "execution_count": null,
   "metadata": {
    "collapsed": false
   },
   "outputs": [],
   "source": [
    "# discount view weight\n",
    "VIEW_WEIGHT = 0.005\n",
    "for i in range(len(trainv.columns) - 2):\n",
    "    trainv.iloc[:, 2 + i] = trainv.icol(2 + i) * VIEW_WEIGHT"
   ]
  },
  {
   "cell_type": "code",
   "execution_count": null,
   "metadata": {
    "collapsed": false
   },
   "outputs": [],
   "source": [
    "# concat train and trainv\n",
    "ct = pd.concat([train, trainv])"
   ]
  },
  {
   "cell_type": "code",
   "execution_count": null,
   "metadata": {
    "collapsed": false
   },
   "outputs": [],
   "source": [
    "# aggregate coupon details to get user characteristics\n",
    "del ct['COUPON_ID_hash']\n",
    "grouped = ct.groupby(['USER_ID_hash'])\n",
    "uchar = grouped.sum()"
   ]
  },
  {
   "cell_type": "code",
   "execution_count": null,
   "metadata": {
    "collapsed": false
   },
   "outputs": [],
   "source": [
    "#i = 0\n",
    "#for c in uchar.columns:\n",
    "#    print i, c"
   ]
  },
  {
   "cell_type": "code",
   "execution_count": null,
   "metadata": {
    "collapsed": false
   },
   "outputs": [],
   "source": [
    "# weight matrices\n",
    "WM = np.diag(\n",
    "    [1.25] + # discount price\n",
    "    [1.25] + # disp period\n",
    "    [0.35] + # usable date sum\n",
    "    ([2.0] * 13) + # genre\n",
    "    ([1.0] * 9) + # large area\n",
    "    ([4.5] * 55) + # small area\n",
    "    ([0.625] * 2)) # validperiod\n",
    "WF = np.diag(\n",
    "    [0.75] + # discount price\n",
    "    [1.50] + # disp period\n",
    "    [0.25] + # usable date sum\n",
    "    ([1.75] * 13) + # genre\n",
    "    ([1.0] * 9) + # large area\n",
    "    ([4.5] * 55) + # small area\n",
    "    ([0.625] * 2)) # validperiod"
   ]
  },
  {
   "cell_type": "code",
   "execution_count": null,
   "metadata": {
    "collapsed": false
   },
   "outputs": [],
   "source": [
    "# get sexes\n",
    "uchar_sex = uchar.copy()\n",
    "uchar_sex['USER_ID_hash'] = uchar.index\n",
    "sexes = pd.merge(uchar_sex, ulist, how='inner', on='USER_ID_hash')\n",
    "sexes = sexes[['USER_ID_hash', 'SEX_ID']]"
   ]
  },
  {
   "cell_type": "code",
   "execution_count": null,
   "metadata": {
    "collapsed": false
   },
   "outputs": [],
   "source": [
    "# compute scores\n",
    "del test['COUPON_ID_hash']\n",
    "scoremxm = np.dot(np.dot(uchar.as_matrix(), WM), test.as_matrix().T)\n",
    "scoremxf = np.dot(np.dot(uchar.as_matrix(), WF), test.as_matrix().T)\n",
    "score = DataFrame(scoremxm, index=uchar.index, columns=cplte.COUPON_ID_hash)\n",
    "scoref = DataFrame(scoremxf, index=uchar.index, columns=cplte.COUPON_ID_hash)\n",
    "score[(sexes.SEX_ID == 'f').tolist()] = scoref[(sexes.SEX_ID == 'f').tolist()]"
   ]
  },
  {
   "cell_type": "code",
   "execution_count": null,
   "metadata": {
    "collapsed": false
   },
   "outputs": [],
   "source": [
    "# get recommended coupons\n",
    "def get_recommended_coupons(row):\n",
    "    row.sort(ascending=False)\n",
    "    ret = \" \".join(row.index[:10])\n",
    "    return ret\n",
    "rec = score[:].apply(lambda row: get_recommended_coupons(row), axis=1)"
   ]
  },
  {
   "cell_type": "code",
   "execution_count": null,
   "metadata": {
    "collapsed": false
   },
   "outputs": [],
   "source": [
    "# join recommendations with test data\n",
    "ssub = pd.read_csv('data/sample_submission.csv')\n",
    "del ssub['PURCHASED_COUPONS']\n",
    "recf = DataFrame({'PURCHASED_COUPONS': rec})\n",
    "recf['USER_ID_hash'] = recf.index\n",
    "sub = pd.merge(ssub, recf, how='outer', on='USER_ID_hash')\n",
    "sub = sub.fillna(\"\")"
   ]
  },
  {
   "cell_type": "code",
   "execution_count": null,
   "metadata": {
    "collapsed": true
   },
   "outputs": [],
   "source": [
    "# write recommendations to file\n",
    "sub.to_csv('submission/mod_cos_sim_py.csv', index=False)"
   ]
  }
 ],
 "metadata": {
  "kernelspec": {
   "display_name": "Python 2",
   "language": "python",
   "name": "python2"
  },
  "language_info": {
   "codemirror_mode": {
    "name": "ipython",
    "version": 2
   },
   "file_extension": ".py",
   "mimetype": "text/x-python",
   "name": "python",
   "nbconvert_exporter": "python",
   "pygments_lexer": "ipython2",
   "version": "2.7.10"
  }
 },
 "nbformat": 4,
 "nbformat_minor": 0
}
